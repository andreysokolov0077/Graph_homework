{
 "cells": [
  {
   "cell_type": "markdown",
   "metadata": {},
   "source": [
    "# Домашняя работа по тео"
   ]
  },
  {
   "cell_type": "code",
   "execution_count": 103,
   "metadata": {},
   "outputs": [],
   "source": [
    "import numpy as np\n",
    "import pandas as pd\n",
    "import random\n",
    "import igraph as ig\n",
    "import networkx as nx\n",
    "from networkx import isomorphism"
   ]
  },
  {
   "cell_type": "markdown",
   "metadata": {},
   "source": [
    "# Считываем данные\n",
    "### файл station хранит индекс, название и ветку станций\n",
    "### файл connection хранит в себе индексы связанных станций\n",
    "### станции с переходами уже обьедены в одну вершину"
   ]
  },
  {
   "cell_type": "code",
   "execution_count": 104,
   "metadata": {},
   "outputs": [],
   "source": [
    "rome_st      = pd.read_csv(\"rome_stations.csv\")\n",
    "rome_con     = pd.read_csv(\"rome_connections.csv\")\n",
    "montreal_st  = pd.read_csv(\"montreal_stations.csv\")\n",
    "montreal_con = pd.read_csv(\"montreal_connections.csv\")\n",
    "phenyam_st   = pd.read_csv(\"phenyam_stations.csv\")\n",
    "phenyam_con  = pd.read_csv(\"phenyam_connections.csv\")"
   ]
  },
  {
   "cell_type": "markdown",
   "metadata": {},
   "source": [
    "# Проверка на изоморфизм алгоритмом VF2"
   ]
  },
  {
   "cell_type": "code",
   "execution_count": 111,
   "metadata": {},
   "outputs": [],
   "source": [
    "def make_nx_graph(connections):\n",
    "    g = nx.Graph()\n",
    "    station_1 = list(connections.station_1)\n",
    "    station_2 = list(connections.station_2)\n",
    "    for i in range(len(station_1)):\n",
    "        g.add_edge(station_1[i], station_2[i])\n",
    "        g.add_edge(station_2[i], station_1[i])\n",
    "    \n",
    "    return g"
   ]
  },
  {
   "cell_type": "code",
   "execution_count": 112,
   "metadata": {},
   "outputs": [],
   "source": [
    "rome_g     = make_nx_graph(rome_con)\n",
    "montreal_g = make_nx_graph(montreal_con)\n",
    "phenyam_g  = make_nx_graph(phenyam_con)"
   ]
  },
  {
   "cell_type": "markdown",
   "metadata": {},
   "source": [
    "### Нахождение подграва в большем метро (Рим) изоморфного среднему (Монреаль)"
   ]
  },
  {
   "cell_type": "code",
   "execution_count": 15,
   "metadata": {},
   "outputs": [],
   "source": [
    "large_medium_isom = isomorphism.GraphMatcher(rome_g, montreal_g)"
   ]
  },
  {
   "cell_type": "code",
   "execution_count": 18,
   "metadata": {},
   "outputs": [
    {
     "data": {
      "text/plain": [
       "False"
      ]
     },
     "execution_count": 18,
     "metadata": {},
     "output_type": "execute_result"
    }
   ],
   "source": [
    "large_medium_isom.subgraph_is_isomorphic()"
   ]
  },
  {
   "cell_type": "markdown",
   "metadata": {},
   "source": [
    "### Мы пытались найти в графе большом подграф изоморфный среднему графу, но изоморфных подграфов нету"
   ]
  },
  {
   "cell_type": "markdown",
   "metadata": {},
   "source": [
    "# Проверка на изоморфизм алгоритмом Bliss"
   ]
  },
  {
   "cell_type": "code",
   "execution_count": 107,
   "metadata": {},
   "outputs": [],
   "source": [
    "def make_igraph(connections):\n",
    "    station_1 = list(connections.station_1)\n",
    "    station_2 = list(connections.station_2)\n",
    "    edges = []\n",
    "    \n",
    "    for i in range(len(station_1)):\n",
    "        edges.append((station_1[i] - 1, station_2[i] - 1))\n",
    "    \n",
    "    g = ig.Graph(edges)\n",
    "    return g"
   ]
  },
  {
   "cell_type": "code",
   "execution_count": 108,
   "metadata": {},
   "outputs": [],
   "source": [
    "rome_ig     = make_igraph(rome_con)\n",
    "montreal_ig = make_igraph(montreal_con)\n",
    "phenyam_ig  = make_igraph(phenyam_con)"
   ]
  },
  {
   "cell_type": "markdown",
   "metadata": {},
   "source": [
    "### Чтобы кол-во вершин в большом и среднем графах совпадали из большого надо убрать 4 вершины.\n",
    "\n",
    "### Мы это сделаем так: найдем вершины степени 1 и рандомно выберем из них одну и удалим ее из графа, после чего сделаем тоже самое еще 3 раза"
   ]
  },
  {
   "cell_type": "code",
   "execution_count": 109,
   "metadata": {},
   "outputs": [],
   "source": [
    "for i in range(4):\n",
    "    degr = rome_ig.degree()\n",
    "    singles = []\n",
    "    for j in range(len(degr)):\n",
    "        if degr[j] == 1:\n",
    "            singles.append(j)\n",
    "    idx = random.choice(singles)\n",
    "    rome_ig.delete_vertices(idx)       "
   ]
  },
  {
   "cell_type": "code",
   "execution_count": 110,
   "metadata": {},
   "outputs": [
    {
     "data": {
      "text/plain": [
       "False"
      ]
     },
     "execution_count": 110,
     "metadata": {},
     "output_type": "execute_result"
    }
   ],
   "source": [
    "rome_ig.isomorphic_bliss(montreal_ig)"
   ]
  },
  {
   "cell_type": "markdown",
   "metadata": {},
   "source": [
    "### Как мы видим алгоритм Bliss тоже не дал положительный результат"
   ]
  },
  {
   "cell_type": "markdown",
   "metadata": {},
   "source": [
    "# Теперь найдем пограф в большом и среднем графе изоморфные малому графу\n",
    "\n",
    "### Нахождение подграва в большем метро (Рим) изоморфного малому (Пхеньям)"
   ]
  },
  {
   "cell_type": "code",
   "execution_count": 22,
   "metadata": {},
   "outputs": [],
   "source": [
    "large_small_isom = isomorphism.GraphMatcher(rome_g, phenyam_g)"
   ]
  },
  {
   "cell_type": "code",
   "execution_count": 23,
   "metadata": {},
   "outputs": [
    {
     "data": {
      "text/plain": [
       "True"
      ]
     },
     "execution_count": 23,
     "metadata": {},
     "output_type": "execute_result"
    }
   ],
   "source": [
    "large_small_isom.subgraph_is_isomorphic()"
   ]
  },
  {
   "cell_type": "code",
   "execution_count": 130,
   "metadata": {},
   "outputs": [],
   "source": [
    "rome_map = large_small_isom.mapping"
   ]
  },
  {
   "cell_type": "code",
   "execution_count": 131,
   "metadata": {},
   "outputs": [
    {
     "name": "stdout",
     "output_type": "stream",
     "text": [
      "станция  Lepanto  изоморфна  \tKwangbok \n",
      "\n",
      "станция  Flaminio  изоморфна  \tPotonggang \n",
      "\n",
      "станция  Spagma  изоморфна  \tHwanggumbol \n",
      "\n",
      "станция  Barberini  изоморфна  \tKonsol \n",
      "\n",
      "станция  Reoublica  изоморфна  \tHyoksin\t \n",
      "\n",
      "станция  Termini  изоморфна  \tChosung/ Chou \n",
      "\n",
      "станция  Vittorio Emanuele  изоморфна  \tSamhung \n",
      "\n",
      "станция  Manzoni  изоморфна  \tRakwon \n",
      "\n",
      "станция  Cavour  изоморфна  \tPulgubyol \n",
      "\n",
      "станция  Castro Pretorio  изоморфна  \tKaeson \n",
      "\n",
      "станция  Policlinico  изоморфна  \tSunghi \n",
      "\n",
      "станция  Bologna  изоморфна  \tPonghwa \n",
      "\n",
      "станция  Tibutina  изоморфна  \tYanggwang \n",
      "\n",
      "станция  Quintiliani  изоморфна  \tPuhung \n",
      "\n"
     ]
    }
   ],
   "source": [
    "for rome_ids in rome_map:\n",
    "    print('станция ', rome_st.ix[rome_ids - 1]['name'], ' изоморфна ', phenyam_st.ix[rome_map[rome_ids] - 1]['name'], '\\n')"
   ]
  },
  {
   "cell_type": "markdown",
   "metadata": {},
   "source": [
    "### Нахождение подграва в среднего метро (Монреаль) изоморфного малому (Пхеньям)"
   ]
  },
  {
   "cell_type": "code",
   "execution_count": 26,
   "metadata": {},
   "outputs": [],
   "source": [
    "medium_small_isom = isomorphism.GraphMatcher(montreal_g, phenyam_g)"
   ]
  },
  {
   "cell_type": "code",
   "execution_count": 30,
   "metadata": {},
   "outputs": [
    {
     "data": {
      "text/plain": [
       "True"
      ]
     },
     "execution_count": 30,
     "metadata": {},
     "output_type": "execute_result"
    }
   ],
   "source": [
    "medium_small_isom.subgraph_is_isomorphic()"
   ]
  },
  {
   "cell_type": "code",
   "execution_count": 31,
   "metadata": {},
   "outputs": [
    {
     "data": {
      "text/plain": [
       "{3: 1,\n",
       " 4: 2,\n",
       " 5: 3,\n",
       " 6: 4,\n",
       " 7: 5,\n",
       " 8: 6,\n",
       " 9: 7,\n",
       " 10: 8,\n",
       " 34: 14,\n",
       " 35: 13,\n",
       " 36: 12,\n",
       " 37: 11,\n",
       " 38: 10,\n",
       " 39: 9}"
      ]
     },
     "execution_count": 31,
     "metadata": {},
     "output_type": "execute_result"
    }
   ],
   "source": [
    "medium_small_isom.mapping"
   ]
  },
  {
   "cell_type": "code",
   "execution_count": 122,
   "metadata": {},
   "outputs": [],
   "source": [
    "montreal_map = medium_small_isom.mapping"
   ]
  },
  {
   "cell_type": "code",
   "execution_count": 128,
   "metadata": {},
   "outputs": [
    {
     "name": "stdout",
     "output_type": "stream",
     "text": [
      "станция  Baldo degli ubaldi  изоморфна  \tKwangbok \n",
      "\n",
      "станция  Valle Aurelia  изоморфна  \tPotonggang \n",
      "\n",
      "станция  Cipro  изоморфна  \tHwanggumbol \n",
      "\n",
      "станция  Ottaviano  изоморфна  \tKonsol \n",
      "\n",
      "станция  Lepanto  изоморфна  \tHyoksin\t \n",
      "\n",
      "станция  Flaminio  изоморфна  \tChosung/ Chou \n",
      "\n",
      "станция  Spagma  изоморфна  \tSamhung \n",
      "\n",
      "станция  Barberini  изоморфна  \tRakwon \n",
      "\n",
      "станция  Bologna  изоморфна  \tPulgubyol \n",
      "\n",
      "станция  Policlinico  изоморфна  \tKaeson \n",
      "\n",
      "станция  Castro Pretorio  изоморфна  \tSunghi \n",
      "\n",
      "станция  Cavour  изоморфна  \tPonghwa \n",
      "\n",
      "станция  Colosseo  изоморфна  \tYanggwang \n",
      "\n",
      "станция  Circo Massimo  изоморфна  \tPuhung \n",
      "\n"
     ]
    }
   ],
   "source": [
    "for montreal_ids in montreal_map:\n",
    "    print('станция ', rome_st.ix[montreal_ids - 1]['name'], ' изоморфна ', phenyam_st.ix[montreal_map[montreal_ids] - 1]['name'], '\\n')"
   ]
  },
  {
   "cell_type": "code",
   "execution_count": null,
   "metadata": {},
   "outputs": [],
   "source": []
  }
 ],
 "metadata": {
  "kernelspec": {
   "display_name": "Python 3",
   "language": "python",
   "name": "python3"
  },
  "language_info": {
   "codemirror_mode": {
    "name": "ipython",
    "version": 3
   },
   "file_extension": ".py",
   "mimetype": "text/x-python",
   "name": "python",
   "nbconvert_exporter": "python",
   "pygments_lexer": "ipython3",
   "version": "3.6.4"
  }
 },
 "nbformat": 4,
 "nbformat_minor": 2
}
